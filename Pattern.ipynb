{
  "nbformat": 4,
  "nbformat_minor": 0,
  "metadata": {
    "colab": {
      "provenance": []
    },
    "kernelspec": {
      "name": "python3",
      "display_name": "Python 3"
    },
    "language_info": {
      "name": "python"
    }
  },
  "cells": [
    {
      "cell_type": "code",
      "execution_count": 1,
      "metadata": {
        "colab": {
          "base_uri": "https://localhost:8080/"
        },
        "id": "a6n78G4EcBEV",
        "outputId": "c0a328bf-7521-4118-f3c0-b2d11de2d54a"
      },
      "outputs": [
        {
          "output_type": "stream",
          "name": "stdout",
          "text": [
            "Lower Triangular Pattern:\n",
            "*\n",
            "**\n",
            "***\n",
            "****\n",
            "*****\n",
            "\n",
            "Upper Triangular Pattern:\n",
            "*****\n",
            "****\n",
            "***\n",
            "**\n",
            "*\n",
            "\n",
            "Pyramid Pattern:\n",
            "    *\n",
            "   ***\n",
            "  *****\n",
            " *******\n",
            "*********\n",
            "\n"
          ]
        }
      ],
      "source": [
        "def lower_triangular(n):\n",
        "    for i in range(1, n + 1):\n",
        "        print('*' * i)\n",
        "    print()\n",
        "\n",
        "def upper_triangular(n):\n",
        "    for i in range(n, 0, -1):\n",
        "        print('*' * i)\n",
        "    print()\n",
        "\n",
        "def pyramid(n):\n",
        "    for i in range(n):\n",
        "        print(' ' * (n - i - 1) + '*' * (2 * i + 1))\n",
        "    print()\n",
        "\n",
        "n = 5\n",
        "\n",
        "print(\"Lower Triangular Pattern:\")\n",
        "lower_triangular(n)\n",
        "\n",
        "print(\"Upper Triangular Pattern:\")\n",
        "upper_triangular(n)\n",
        "\n",
        "print(\"Pyramid Pattern:\")\n",
        "pyramid(n)\n"
      ]
    }
  ]
}
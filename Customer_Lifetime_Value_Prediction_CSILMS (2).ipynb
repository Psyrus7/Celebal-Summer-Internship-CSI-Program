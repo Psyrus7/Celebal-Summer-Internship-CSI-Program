{
  "nbformat": 4,
  "nbformat_minor": 0,
  "metadata": {
    "colab": {
      "provenance": []
    },
    "kernelspec": {
      "name": "python3",
      "display_name": "Python 3"
    },
    "language_info": {
      "name": "python"
    }
  },
  "cells": [
    {
      "cell_type": "code",
      "source": [
        "import pandas as pd\n",
        "import numpy as np\n",
        "from sklearn.model_selection import train_test_split\n",
        "from sklearn.ensemble import RandomForestRegressor\n",
        "from sklearn.metrics import mean_absolute_error, mean_squared_error, r2_score\n",
        "import matplotlib.pyplot as plt\n",
        "import seaborn as sns"
      ],
      "metadata": {
        "id": "nyGL_Ka08s2_"
      },
      "execution_count": 31,
      "outputs": []
    },
    {
      "cell_type": "code",
      "source": [
        "from google.colab import drive\n",
        "drive.mount('/content/drive')"
      ],
      "metadata": {
        "colab": {
          "base_uri": "https://localhost:8080/"
        },
        "id": "7_zydyGz9WCn",
        "outputId": "2059f2ec-b672-4ae9-f1f1-c9cb4401025c"
      },
      "execution_count": null,
      "outputs": [
        {
          "output_type": "stream",
          "name": "stdout",
          "text": [
            "Drive already mounted at /content/drive; to attempt to forcibly remount, call drive.mount(\"/content/drive\", force_remount=True).\n"
          ]
        }
      ]
    },
    {
      "cell_type": "code",
      "source": [
        "\n",
        "# Load the dataset\n",
        "df = pd.read_excel('/content/drive/MyDrive/CSILMS/online_retail_II.xlsx')\n"
      ],
      "metadata": {
        "id": "Z59YVaLX8uK4"
      },
      "execution_count": null,
      "outputs": []
    },
    {
      "cell_type": "code",
      "source": [
        "# Data Cleaning\n",
        "df.dropna(subset=['Customer ID'], inplace=True)\n",
        "df['InvoiceDate'] = pd.to_datetime(df['InvoiceDate'])\n",
        "df = df[df['Quantity'] > 0]\n",
        "df = df[df['Price'] > 0]\n"
      ],
      "metadata": {
        "id": "rEr-sNS58vjw",
        "colab": {
          "base_uri": "https://localhost:8080/"
        },
        "outputId": "b5ea141a-610f-4c5d-8c01-eb5a86b1e62f"
      },
      "execution_count": null,
      "outputs": [
        {
          "output_type": "stream",
          "name": "stderr",
          "text": [
            "<ipython-input-17-57405f5dd337>:2: SettingWithCopyWarning: \n",
            "A value is trying to be set on a copy of a slice from a DataFrame\n",
            "\n",
            "See the caveats in the documentation: https://pandas.pydata.org/pandas-docs/stable/user_guide/indexing.html#returning-a-view-versus-a-copy\n",
            "  df.dropna(subset=['Customer ID'], inplace=True)\n",
            "<ipython-input-17-57405f5dd337>:3: SettingWithCopyWarning: \n",
            "A value is trying to be set on a copy of a slice from a DataFrame.\n",
            "Try using .loc[row_indexer,col_indexer] = value instead\n",
            "\n",
            "See the caveats in the documentation: https://pandas.pydata.org/pandas-docs/stable/user_guide/indexing.html#returning-a-view-versus-a-copy\n",
            "  df['InvoiceDate'] = pd.to_datetime(df['InvoiceDate'])\n"
          ]
        }
      ]
    },
    {
      "cell_type": "code",
      "source": [
        "# Feature Engineering\n",
        "df['TotalPrice'] = df['Quantity'] * df['Price']\n",
        "customer_df = df.groupby('Customer ID').agg({\n",
        "    'Invoice': 'count',\n",
        "    'Quantity': 'sum',\n",
        "    'TotalPrice': 'sum',\n",
        "    'InvoiceDate': lambda x: (x.max() - x.min()).days,\n",
        "    'Country': 'first'\n",
        "}).reset_index()\n",
        "\n",
        "customer_df.columns = ['Customer ID', 'Frequency', 'TotalQuantity', 'TotalValue', 'Recency', 'Country']"
      ],
      "metadata": {
        "id": "cTcyXJnC8yH_"
      },
      "execution_count": null,
      "outputs": []
    },
    {
      "cell_type": "code",
      "source": [
        "\n",
        "# Calculate Historical CLV\n",
        "customer_df['CLV'] = customer_df['TotalValue']"
      ],
      "metadata": {
        "id": "ImmHLSJ58zns"
      },
      "execution_count": null,
      "outputs": []
    },
    {
      "cell_type": "code",
      "source": [
        "# Prepare the Data for Modeling\n",
        "X = customer_df[['Frequency', 'TotalQuantity', 'Recency']]\n",
        "y = customer_df['CLV']"
      ],
      "metadata": {
        "id": "WqncADPB82F3"
      },
      "execution_count": null,
      "outputs": []
    },
    {
      "cell_type": "code",
      "source": [
        "\n",
        "# Split the Data\n",
        "X_train, X_test, y_train, y_test = train_test_split(X, y, test_size=0.2, random_state=42)"
      ],
      "metadata": {
        "id": "K2ESZGVo85AF"
      },
      "execution_count": null,
      "outputs": []
    },
    {
      "cell_type": "code",
      "source": [
        "# Train the Model\n",
        "model = RandomForestRegressor(n_estimators=100, random_state=42)\n",
        "model.fit(X_train, y_train)"
      ],
      "metadata": {
        "id": "P38DHkx_864r",
        "colab": {
          "base_uri": "https://localhost:8080/",
          "height": 74
        },
        "outputId": "ee1a79da-ceab-4183-d77d-7d753297bd25"
      },
      "execution_count": null,
      "outputs": [
        {
          "output_type": "execute_result",
          "data": {
            "text/plain": [
              "RandomForestRegressor(random_state=42)"
            ],
            "text/html": [
              "<style>#sk-container-id-1 {color: black;background-color: white;}#sk-container-id-1 pre{padding: 0;}#sk-container-id-1 div.sk-toggleable {background-color: white;}#sk-container-id-1 label.sk-toggleable__label {cursor: pointer;display: block;width: 100%;margin-bottom: 0;padding: 0.3em;box-sizing: border-box;text-align: center;}#sk-container-id-1 label.sk-toggleable__label-arrow:before {content: \"▸\";float: left;margin-right: 0.25em;color: #696969;}#sk-container-id-1 label.sk-toggleable__label-arrow:hover:before {color: black;}#sk-container-id-1 div.sk-estimator:hover label.sk-toggleable__label-arrow:before {color: black;}#sk-container-id-1 div.sk-toggleable__content {max-height: 0;max-width: 0;overflow: hidden;text-align: left;background-color: #f0f8ff;}#sk-container-id-1 div.sk-toggleable__content pre {margin: 0.2em;color: black;border-radius: 0.25em;background-color: #f0f8ff;}#sk-container-id-1 input.sk-toggleable__control:checked~div.sk-toggleable__content {max-height: 200px;max-width: 100%;overflow: auto;}#sk-container-id-1 input.sk-toggleable__control:checked~label.sk-toggleable__label-arrow:before {content: \"▾\";}#sk-container-id-1 div.sk-estimator input.sk-toggleable__control:checked~label.sk-toggleable__label {background-color: #d4ebff;}#sk-container-id-1 div.sk-label input.sk-toggleable__control:checked~label.sk-toggleable__label {background-color: #d4ebff;}#sk-container-id-1 input.sk-hidden--visually {border: 0;clip: rect(1px 1px 1px 1px);clip: rect(1px, 1px, 1px, 1px);height: 1px;margin: -1px;overflow: hidden;padding: 0;position: absolute;width: 1px;}#sk-container-id-1 div.sk-estimator {font-family: monospace;background-color: #f0f8ff;border: 1px dotted black;border-radius: 0.25em;box-sizing: border-box;margin-bottom: 0.5em;}#sk-container-id-1 div.sk-estimator:hover {background-color: #d4ebff;}#sk-container-id-1 div.sk-parallel-item::after {content: \"\";width: 100%;border-bottom: 1px solid gray;flex-grow: 1;}#sk-container-id-1 div.sk-label:hover label.sk-toggleable__label {background-color: #d4ebff;}#sk-container-id-1 div.sk-serial::before {content: \"\";position: absolute;border-left: 1px solid gray;box-sizing: border-box;top: 0;bottom: 0;left: 50%;z-index: 0;}#sk-container-id-1 div.sk-serial {display: flex;flex-direction: column;align-items: center;background-color: white;padding-right: 0.2em;padding-left: 0.2em;position: relative;}#sk-container-id-1 div.sk-item {position: relative;z-index: 1;}#sk-container-id-1 div.sk-parallel {display: flex;align-items: stretch;justify-content: center;background-color: white;position: relative;}#sk-container-id-1 div.sk-item::before, #sk-container-id-1 div.sk-parallel-item::before {content: \"\";position: absolute;border-left: 1px solid gray;box-sizing: border-box;top: 0;bottom: 0;left: 50%;z-index: -1;}#sk-container-id-1 div.sk-parallel-item {display: flex;flex-direction: column;z-index: 1;position: relative;background-color: white;}#sk-container-id-1 div.sk-parallel-item:first-child::after {align-self: flex-end;width: 50%;}#sk-container-id-1 div.sk-parallel-item:last-child::after {align-self: flex-start;width: 50%;}#sk-container-id-1 div.sk-parallel-item:only-child::after {width: 0;}#sk-container-id-1 div.sk-dashed-wrapped {border: 1px dashed gray;margin: 0 0.4em 0.5em 0.4em;box-sizing: border-box;padding-bottom: 0.4em;background-color: white;}#sk-container-id-1 div.sk-label label {font-family: monospace;font-weight: bold;display: inline-block;line-height: 1.2em;}#sk-container-id-1 div.sk-label-container {text-align: center;}#sk-container-id-1 div.sk-container {/* jupyter's `normalize.less` sets `[hidden] { display: none; }` but bootstrap.min.css set `[hidden] { display: none !important; }` so we also need the `!important` here to be able to override the default hidden behavior on the sphinx rendered scikit-learn.org. See: https://github.com/scikit-learn/scikit-learn/issues/21755 */display: inline-block !important;position: relative;}#sk-container-id-1 div.sk-text-repr-fallback {display: none;}</style><div id=\"sk-container-id-1\" class=\"sk-top-container\"><div class=\"sk-text-repr-fallback\"><pre>RandomForestRegressor(random_state=42)</pre><b>In a Jupyter environment, please rerun this cell to show the HTML representation or trust the notebook. <br />On GitHub, the HTML representation is unable to render, please try loading this page with nbviewer.org.</b></div><div class=\"sk-container\" hidden><div class=\"sk-item\"><div class=\"sk-estimator sk-toggleable\"><input class=\"sk-toggleable__control sk-hidden--visually\" id=\"sk-estimator-id-1\" type=\"checkbox\" checked><label for=\"sk-estimator-id-1\" class=\"sk-toggleable__label sk-toggleable__label-arrow\">RandomForestRegressor</label><div class=\"sk-toggleable__content\"><pre>RandomForestRegressor(random_state=42)</pre></div></div></div></div></div>"
            ]
          },
          "metadata": {},
          "execution_count": 24
        }
      ]
    },
    {
      "cell_type": "markdown",
      "source": [
        "\n",
        "\n",
        "1.   List item\n",
        "2.   List item\n",
        "\n"
      ],
      "metadata": {
        "id": "pUaJn7eQBrgo"
      }
    },
    {
      "cell_type": "code",
      "source": [
        "# Predict and Evaluate\n",
        "y_pred = model.predict(X_test)\n",
        "mae = mean_absolute_error(y_test, y_pred)\n",
        "rmse = np.sqrt(mean_squared_error(y_test, y_pred))\n",
        "r2 = r2_score(y_test, y_pred)\n",
        "\n",
        "print(f'Mean Absolute Error: {mae}')\n",
        "print(f'Root Mean Squared Error: {rmse}')\n",
        "print(f'R-squared: {r2}')"
      ],
      "metadata": {
        "id": "03d4zceG88YH",
        "colab": {
          "base_uri": "https://localhost:8080/"
        },
        "outputId": "dd7af38e-ca4d-49f3-a8f4-149c88b5b61f"
      },
      "execution_count": null,
      "outputs": [
        {
          "output_type": "stream",
          "name": "stdout",
          "text": [
            "Mean Absolute Error: 608.0285684052608\n",
            "Root Mean Squared Error: 2011.5393282545388\n",
            "R-squared: 0.8548117078012072\n"
          ]
        }
      ]
    },
    {
      "cell_type": "code",
      "source": [
        "# Predict Future CLV for All Customers\n",
        "customer_df['Predicted_CLV'] = model.predict(customer_df[['Frequency', 'TotalQuantity', 'Recency']])"
      ],
      "metadata": {
        "id": "9eS6MY8X8_uJ"
      },
      "execution_count": null,
      "outputs": []
    },
    {
      "cell_type": "code",
      "execution_count": 29,
      "metadata": {
        "id": "op59XPXi8jok",
        "colab": {
          "base_uri": "https://localhost:8080/"
        },
        "outputId": "8424258f-3f76-4916-93ce-a9908d0f4e36"
      },
      "outputs": [
        {
          "output_type": "stream",
          "name": "stdout",
          "text": [
            "    Customer ID       CLV  Predicted_CLV\n",
            "0       12346.0    372.86     322.003000\n",
            "1       12347.0   1323.32    1325.094400\n",
            "2       12348.0    222.16     280.285500\n",
            "3       12349.0   2671.14    2313.847200\n",
            "4       12351.0    300.93     326.465000\n",
            "5       12352.0    343.80     359.230400\n",
            "6       12353.0    317.76     307.608000\n",
            "7       12355.0    488.21     515.008100\n",
            "8       12356.0   3562.25    2643.436100\n",
            "9       12357.0  12079.99    9886.820300\n",
            "10      12358.0   2719.01    2703.199700\n",
            "11      12359.0   2563.36    2407.780100\n",
            "12      12360.0   1590.83    1982.069000\n",
            "13      12361.0    321.35     389.031400\n",
            "14      12362.0    130.00     816.948086\n",
            "15      12366.0    500.24     419.214200\n",
            "16      12368.0    917.70     767.959900\n",
            "17      12369.0   1791.15    2279.641700\n",
            "18      12370.0    774.62     757.700200\n",
            "19      12371.0   2179.42    2070.225600\n"
          ]
        }
      ],
      "source": [
        "\n",
        "# Display the DataFrame with Predicted CLV\n",
        "print(customer_df[['Customer ID', 'CLV', 'Predicted_CLV']].head(20))\n"
      ]
    },
    {
      "cell_type": "code",
      "source": [
        "# Visualization\n",
        "plt.figure(figsize=(10, 6))\n",
        "sns.scatterplot(x=customer_df['CLV'], y=customer_df['Predicted_CLV'])\n",
        "plt.title('Actual CLV vs Predicted CLV')\n",
        "plt.xlabel('Actual CLV')\n",
        "plt.ylabel('Predicted CLV')\n",
        "plt.plot([customer_df['CLV'].min(), customer_df['CLV'].max()],\n",
        "          [customer_df['CLV'].min(), customer_df['CLV'].max()],\n",
        "          'r--')  # Line showing perfect prediction\n",
        "plt.show()"
      ],
      "metadata": {
        "colab": {
          "base_uri": "https://localhost:8080/",
          "height": 564
        },
        "id": "BmmYbL4-L-RP",
        "outputId": "8c970ce8-4054-4d5f-e3f4-128c3dc0052a"
      },
      "execution_count": 35,
      "outputs": [
        {
          "output_type": "display_data",
          "data": {
            "text/plain": [
              "<Figure size 1000x600 with 1 Axes>"
            ],
            "image/png": "[encoded data removed]"
          },
          "metadata": {}
        }
      ]
    },
    {
      "cell_type": "code",
      "source": [],
      "metadata": {
        "id": "jowyj7gUM3Jz"
      },
      "execution_count": null,
      "outputs": []
    }
  ]
}